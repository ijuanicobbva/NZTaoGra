{
  "cells": [
    {
      "cell_type": "markdown",
      "metadata": {
        "id": "view-in-github",
        "colab_type": "text"
      },
      "source": [
        "<a href=\"https://colab.research.google.com/github/ijuanicobbva/NZTaoGra/blob/develop/t_nztg_secur_accounting_position_ifrs9.ipynb\" target=\"_parent\"><img src=\"https://colab.research.google.com/assets/colab-badge.svg\" alt=\"Open In Colab\"/></a>"
      ]
    },
    {
      "cell_type": "markdown",
      "metadata": {
        "id": "0Uy5JsltF3Td"
      },
      "source": [
        "<center><h1>t_nztg_secur_accounting_position_ifrs9</h1></center"
      ]
    },
    {
      "cell_type": "markdown",
      "metadata": {
        "id": "ktTldPEXF3Th"
      },
      "source": [
        "## Package"
      ]
    },
    {
      "cell_type": "code",
      "execution_count": null,
      "metadata": {
        "jupyter": {
          "source_hidden": true
        },
        "id": "Q2FZnPcUF3Ti"
      },
      "outputs": [],
      "source": [
        "object Constants {\n",
        "    \n",
        "  //Paths\n",
        "  val t_mdco_contractattr_ifrs9 = \"/data/master/mdco/data/risk/t_mdco_contractattr_ifrs9\"  \n",
        "  \n",
        "  //Constans\n",
        "  val gf_secur_pos_cancel_date = \"gf_secur_pos_cancel_date\"\n",
        "  val g_branch_id = \"g_branch_id\"\n",
        "  val portfolio_desc = \"portfolio_desc\"\n",
        "  val prods = List(\"CET\",\"CVT\",\"LMG\",\"PVR\",\"CDP\",\"CNG\",\"SPR\",\"PRB\",\"GPR\")\n",
        "  val load_date_partition = \"/load_date=\"\n",
        "  val source_application_id = \"source_application_id\"\n",
        "  val seller_branch_id = \"seller_branch_id\"\n",
        "  val issuing_expiry_date = \"issuing_expiry_date\"\n",
        "  val origin_currency_type = \"origin_currency_type\"\n",
        "  val isin_id = \"isin_id\"\n",
        "  val contract_id = \"contract_id\"\n",
        "  val market_operation_type = \"market_operation_type\"\n",
        "  val customer_corporate_id = \"customer_corporate_id\"\n",
        "  val total_securities_nominal_amount = \"total_securities_nominal_amount\"\n",
        "  val current_commitment_amount = \"current_commitment_amount\"\n",
        "  val return_interest_rate_per = \"return_interest_rate_per\"\n",
        "  val current_rate_coupon_per = \"current_rate_coupon_per\"\n",
        "  val securities_dealing_desk_name = \"securities_dealing_desk_name\"\n",
        "  val initial_amount = \"initial_amount\"\n",
        "  val market_operation1_type = \"market_operation1_type\"\n",
        "  val bbva_intergroup_id = \"bbva_intergroup_id\"\n",
        "  val coupon_rate_name = \"coupon_rate_name\"\n",
        "  val left = \"left\"\n",
        "  val contract_affiliation_id = \"contract_affiliation_id\"\n",
        "  val BGM_BIS = \"BGM_BIS\"\n",
        "  val gf_origin_application_id = \"gf_origin_application_id\"\n",
        "  val MX0074 = \"MX0074\"\n",
        "  val twoZeroSevenFour= \"0074\"\n",
        "  val gf_secur_pos_registration_date = \"gf_secur_pos_registration_date\"\n",
        "  val gf_current_expiration_date = \"gf_current_expiration_date\"\n",
        "  val g_currency_id = \"g_currency_id\"\n",
        "  val g_security_id = \"g_security_id\"\n",
        "  val g_security_position_id = \"g_security_position_id\"\n",
        "  val g_entity_id = \"g_entity_id\"\n",
        "  val gf_local_contract_number_id = \"gf_local_contract_number_id\"\n",
        "  val gf_financial_product_id = \"gf_financial_product_id\"\n",
        "  val g_global_product_id = \"g_global_product_id\"\n",
        "  val RDR = \"RDR\"\n",
        "  val gf_ctpty_source_system_id = \"gf_ctpty_source_system_id\"\n",
        "  val gf_srce_system_counterparty_id = \"gf_srce_system_counterparty_id\"\n",
        "  val g_counterparty_id = \"g_counterparty_id\"\n",
        "  val g_customer_id = \"g_customer_id\"\n",
        "  val gf_nominal_amount = \"gf_nominal_amount\"\n",
        "  val gf_secur_pos_avg_trd_pc_amount = \"gf_secur_pos_avg_trd_pc_amount\"\n",
        "  val gf_irr_per = \"gf_irr_per\"\n",
        "  val gf_current_interest_rate_per = \"gf_current_interest_rate_per\"\n",
        "  var nullString: String = _\n",
        "  val CET = \"CET\"\n",
        "  val CVT = \"CVT\"\n",
        "  val LMG = \"LMG\"\n",
        "  val PVR = \"PVR\"\n",
        "  val CDP = \"CDP\"\n",
        "  val CNG = \"CNG\"\n",
        "  val A = \"A\"\n",
        "  val SPR = \"SPR\"\n",
        "  val PRB = \"PRB\"\n",
        "  val GPR = \"GPR\"\n",
        "  val P = \"P\"\n",
        "  val g_trade_position_type = \"g_trade_position_type\"\n",
        "  val gf_management_portfolio_id = \"gf_management_portfolio_id\"\n",
        "  val gf_option_strike_amount = \"gf_option_strike_amount\"\n",
        "  val g_exercise_option_type = \"g_exercise_option_type\"\n",
        "  val g_call_put_option_type = \"g_call_put_option_type\"\n",
        "  val gf_undly_prd_typo_desc = \"gf_undly_prd_typo_desc\"\n",
        "  val g_undly_asset_isin_id = \"g_undly_asset_isin_id\"\n",
        "  val gf_colat_typo_desc = \"gf_colat_typo_desc\"\n",
        "  val gf_collateral_isin_desc = \"gf_collateral_isin_desc\"\n",
        "  val gf_colat_nmnl_amt_desc = \"gf_colat_nmnl_amt_desc\"\n",
        "  val gf_settl_amount = \"gf_settl_amount\"\n",
        "  val BILT = \"BILT\"\n",
        "  val g_mic_id = \"g_mic_id\"\n",
        "  val g_internal_operation_ind_type = \"g_internal_operation_ind_type\"\n",
        "  val Y = \"Y\"\n",
        "  val gf_trd_cpt_cnsptn_pr_ind_type = \"gf_trd_cpt_cnsptn_pr_ind_type\"\n",
        "  val gf_deriv_setl_mkt_ind_type = \"gf_deriv_setl_mkt_ind_type\"\n",
        "  val gf_recouponing_date = \"gf_recouponing_date\"\n",
        "  val VDO = \"VDO\"\n",
        "  val E = \"E\"\n",
        "  val MX = \"MX\"\n",
        "  val g_entific_id = \"g_entific_id\"\n",
        "  val gf_cutoff_date = \"gf_cutoff_date\"\n",
        "  val gf_secur_pos_last_change_date = \"gf_secur_pos_last_change_date\"\n",
        "  val gf_secur_posn_status_type = \"gf_secur_posn_status_type\"\n",
        "  val gf_secur_pos_ast_liab_ind_type = \"gf_secur_pos_ast_liab_ind_type\"\n",
        "  val gf_security_posn_id = \"gf_security_posn_id\"\n",
        "  val gf_secur_asset_type = \"gf_secur_asset_type\"\n",
        "  val g_holding_product_id = \"g_holding_product_id\"\n",
        "  val gf_lc_nominal_amount = \"gf_lc_nominal_amount\"\n",
        "  val gf_secur_posn_avg_irr_per = \"gf_secur_posn_avg_irr_per\"\n",
        "  val gf_tedr_per = \"gf_tedr_per\"\n",
        "  val gf_nominal_interest_rate_per = \"gf_nominal_interest_rate_per\"\n",
        "  val gf_gl_secur_pc_amount = \"gf_gl_secur_pc_amount\"\n",
        "  val gf_securities_number = \"gf_securities_number\"\n",
        "  val g_bought_sold_position_type = \"g_bought_sold_position_type\"\n",
        "  val gf_contract_multiplier_number = \"gf_contract_multiplier_number\"\n",
        "  val gf_underlying_maturity_date = \"gf_underlying_maturity_date\"\n",
        "  val g_colat_nmnl_amt_curncy_desc = \"g_colat_nmnl_amt_curncy_desc\"\n",
        "  val g_settl_curncy_id = \"g_settl_curncy_id\"\n",
        "  val gf_audit_date = \"gf_audit_date\"\n",
        "  val emptyString = \"\"\n",
        "  val gf_odate_date_id = \"gf_odate_date_id\"\n",
        "  val gf_run_id = \"gf_run_id\"\n",
        "  val g_triparty_trade_ind_type = \"g_triparty_trade_ind_type\"\n",
        "  val g_clearing_house_type = \"g_clearing_house_type\"\n",
        "  val g_gl_classification_type = \"g_gl_classification_type\"\n",
        "  val g_market_type = \"g_market_type\"\n",
        "  val gf_initial_interest_rate_per = \"gf_initial_interest_rate_per\"\n",
        "  val gf_float_rt_index_id = \"gf_float_rt_index_id\"\n",
        "  val g_reference_index_id = \"g_reference_index_id\"\n",
        "  val gf_ref_index_interest_rate_per = \"gf_ref_index_interest_rate_per\"\n",
        "  val gf_original_expiry_date = \"gf_original_expiry_date\"\n",
        "  val throw_a_exception_when_a_path_not_exist = \"throw a exception when a path not exist\"\n",
        "  val twentysix = 26\n",
        "  val six = 6\n",
        "  val twelve = 12\n",
        "  val nine = 9\n",
        "  val seventeen = 17\n",
        "  val zero = 0\n",
        "  val four = 4\n",
        "  val cutoff_date_partition = \"/cutoff_date=\"\n",
        "  val two = 2\n",
        "  val twoString = \"2\"\n",
        "  val threeZeroFive = \"0005\"\n",
        "  val threeZeroSeven = \"0007\"\n",
        "  val DefaultDateWithoutDash = \"00010101\"\n",
        "  val DefaultDateFormatWithoutDash = \"yyyyMMdd\"\n",
        "  val DefaultAmountZero = 0.00\n",
        "  val PEN = \"PEN\"\n",
        "  val SEG = \"SEG\"\n",
        "  val contract_entity_id = \"contract_entity_id\"\n",
        "  val inventory_origin_type = \"inventory_origin_type\"\n",
        "  val contract_branch_id = \"contract_branch_id\"\n",
        "  val current_expiry_date = \"current_expiry_date\"\n",
        "  val financial_product_id = \"financial_product_id\"\n",
        "  val reference_type = \"reference_type\"\n",
        "  val gl_currency_id = \"gl_currency_id\"\n",
        "  val customer_id = \"customer_id\"\n",
        "  val initial_interest_per = \"initial_interest_per\"\n",
        "  val reference_type_interest_rate_per = \"reference_type_interest_rate_per\"\n",
        "  val holding_product_id = \"holding_product_id\"\n",
        "  val reference_index = \"reference_index\"\n",
        "  val three = 3\n",
        "  val CAN = \"CAN\"    \n",
        "\n",
        "}"
      ]
    },
    {
      "cell_type": "markdown",
      "metadata": {
        "id": "cqWsQ25mF3Tm"
      },
      "source": [
        "## InputReader"
      ]
    },
    {
      "cell_type": "code",
      "execution_count": null,
      "metadata": {
        "jupyter": {
          "source_hidden": true
        },
        "id": "zpDmjkByF3Tm"
      },
      "outputs": [],
      "source": [
        "import Constants._\n",
        "import org.apache.spark.sql.{DataFrame, SparkSession}\n",
        "import org.apache.spark.sql.functions.{col, concat, current_timestamp, date_format, lit, substring, to_date, trim, upper, when}\n",
        "import org.apache.commons.lang3.exception.ExceptionUtils\n",
        "import org.apache.spark.sql.types.{DateType, DecimalType, StringType}\n",
        "import scala.util.Random\n",
        "\n",
        "class InputReader(spark: SparkSession, odate: String) {\n",
        "\n",
        "  def fillBankMarket(path: String): DataFrame = {\n",
        "    try {\n",
        "      spark.read.parquet(path + cutoff_date_partition + odate)\n",
        "        .filter(\n",
        "            col(contract_entity_id) === twoZeroSevenFour\n",
        "              and col(inventory_origin_type) === twoString)\n",
        "        .select(\n",
        "          lit(MX).as(g_entific_id),\n",
        "          lit(CAN).cast(StringType).as(gf_origin_application_id),\n",
        "          lit(odate).cast(DateType).as(gf_cutoff_date), concat(lit(MX), col(contract_entity_id)).as(g_entity_id),\n",
        "          substring(col(contract_branch_id), three, four).as(g_branch_id),\n",
        "          date_format(to_date(lit(DefaultDateWithoutDash), DefaultDateFormatWithoutDash), DefaultDateFormatWithoutDash)\n",
        "            .cast(DateType)\n",
        "            .as(gf_secur_pos_registration_date),\n",
        "          col(current_expiry_date).as(gf_current_expiration_date), lit(nullString).cast(DateType).as(gf_secur_pos_cancel_date),\n",
        "          lit(nullString).cast(DateType).as(gf_secur_pos_last_change_date), lit(nullString).cast(StringType).as(gf_secur_posn_status_type),\n",
        "          lit(nullString).cast(StringType).as(gf_secur_pos_ast_liab_ind_type), col(gl_currency_id).as(g_currency_id),\n",
        "          col(isin_id).as(g_security_id), lit(nullString).cast(StringType).as(g_security_position_id),\n",
        "          lit(nullString).cast(StringType).as(gf_security_posn_id),\n",
        "          concat(lit(MX), col(contract_entity_id), substring(col(contract_branch_id), three, four),\n",
        "            col(contract_id)).as(gf_local_contract_number_id),\n",
        "          lit(nullString).cast(StringType).as(gf_secur_asset_type),\n",
        "          col(financial_product_id).cast(StringType).as(gf_financial_product_id),\n",
        "          col(holding_product_id).cast(StringType).as(g_holding_product_id), lit(\"1611101010\").as(g_global_product_id),\n",
        "          lit(nullString).cast(StringType).as(gf_ctpty_source_system_id), lit(nullString).cast(StringType).as(gf_srce_system_counterparty_id),\n",
        "          lit(nullString).cast(StringType).as(g_counterparty_id), col(customer_id).as(g_customer_id),\n",
        "          col(current_commitment_amount).cast(DecimalType(twentysix, six)).as(gf_nominal_amount),\n",
        "          lit(nullString).cast(DecimalType(twentysix, six)).as(gf_lc_nominal_amount),\n",
        "          lit(DefaultAmountZero).cast(DecimalType(twentysix, six)).as(gf_secur_pos_avg_trd_pc_amount),\n",
        "          lit(nullString).cast(DecimalType(twelve, nine)).as(gf_secur_posn_avg_irr_per),\n",
        "          col(initial_interest_per).cast(DecimalType(twelve, nine)).as(gf_irr_per), lit(nullString).cast(DecimalType(twelve, nine)).as(gf_tedr_per),\n",
        "          col(reference_type_interest_rate_per).cast(DecimalType(twelve, nine)).as(gf_current_interest_rate_per),\n",
        "          lit(nullString).cast(DecimalType(twelve, nine)).as(gf_nominal_interest_rate_per),\n",
        "          lit(nullString).cast(DecimalType(twentysix, six)).as(gf_gl_secur_pc_amount),\n",
        "          lit(nullString).cast(DecimalType(seventeen, zero)).as(gf_securities_number),\n",
        "          lit(nullString).cast(StringType).as(g_bought_sold_position_type), lit(nullString).cast(StringType).as(g_trade_position_type),\n",
        "          lit(nullString).cast(StringType).as(gf_management_portfolio_id), lit(nullString).cast(DecimalType(twelve, four)).as(gf_contract_multiplier_number),\n",
        "          lit(nullString).cast(DecimalType(twentysix, six)).as(gf_option_strike_amount), lit(nullString).cast(StringType).as(g_exercise_option_type),\n",
        "          lit(nullString).cast(StringType).as(g_call_put_option_type), lit(nullString).cast(StringType).as(gf_undly_prd_typo_desc),\n",
        "          lit(nullString).cast(StringType).as(g_undly_asset_isin_id), lit(nullString).cast(DateType).as(gf_underlying_maturity_date),\n",
        "          lit(nullString).cast(StringType).as(gf_colat_typo_desc), lit(nullString).cast(StringType).as(gf_collateral_isin_desc),\n",
        "          lit(nullString).cast(StringType).as(gf_colat_nmnl_amt_desc), lit(nullString).cast(StringType).as(g_colat_nmnl_amt_curncy_desc),\n",
        "          lit(nullString).cast(DecimalType(twentysix, six)).as(gf_settl_amount), lit(nullString).cast(StringType).as(g_settl_curncy_id),\n",
        "          lit(nullString).cast(StringType).as(g_mic_id), lit(nullString).cast(StringType).as(g_internal_operation_ind_type),\n",
        "          lit(nullString).cast(StringType).as(gf_trd_cpt_cnsptn_pr_ind_type), lit(nullString).cast(StringType).as(gf_deriv_setl_mkt_ind_type),\n",
        "          lit(nullString).cast(DateType).as(gf_recouponing_date), lit(nullString).cast(StringType).as(g_triparty_trade_ind_type),\n",
        "          lit(nullString).cast(StringType).as(g_clearing_house_type), lit(nullString).cast(StringType).as(g_gl_classification_type),\n",
        "          lit(nullString).cast(StringType).as(g_market_type),\n",
        "          lit(nullString).cast(DecimalType(twelve,nine)).as(gf_initial_interest_rate_per),\n",
        "          lit(nullString).cast(StringType).as(gf_float_rt_index_id),\n",
        "          col(reference_type).cast(StringType).as(g_reference_index_id),\n",
        "          col(reference_type_interest_rate_per).cast(DecimalType(twelve,nine)).as(gf_ref_index_interest_rate_per),\n",
        "          lit(nullString).cast(DateType).as(gf_original_expiry_date),\n",
        "          current_timestamp.as(gf_audit_date), lit(odate.replace(\"-\", emptyString)).as(gf_odate_date_id),\n",
        "          concat(lit(odate.replace(\"-\", emptyString)), lit(Random.alphanumeric take 11 mkString)).as(gf_run_id)\n",
        "        )\n",
        "    } catch {\n",
        "      case e: Exception => ExceptionUtils.getStackTrace(e)\n",
        "        throw e\n",
        "    }\n",
        "  }\n",
        "\n",
        "}"
      ]
    },
    {
      "cell_type": "markdown",
      "metadata": {
        "id": "Xa29bvr2F3Tn"
      },
      "source": [
        "## NZTGSecurAccountingIfrs9Layout"
      ]
    },
    {
      "cell_type": "code",
      "execution_count": null,
      "metadata": {
        "jupyter": {
          "source_hidden": true
        },
        "id": "k1JsN8YFF3Tn"
      },
      "outputs": [],
      "source": [
        "import Constants._\n",
        "import org.apache.spark.sql.SparkSession\n",
        "    \n",
        "    val spark = SparkSession\n",
        "        .builder()\n",
        "        .appName(\"NztgSecurAccountingIfrs9\")\n",
        "        .config(\"spark.some.config.option\", \"CDD\")\n",
        "        .getOrCreate()\n",
        "\n",
        "val odate = \"2022-06-30\"\n",
        "val input = new InputReader(spark, odate)\n",
        "\n",
        "val SecurAccountingIfrs9 = input.fillBankMarket(t_mdco_contractattr_ifrs9)"
      ]
    },
    {
      "cell_type": "code",
      "execution_count": null,
      "metadata": {
        "jupyter": {
          "source_hidden": true
        },
        "id": "j6PyWe2EF3To"
      },
      "outputs": [],
      "source": [
        "// Save sample table\n",
        "SecurAccountingIfrs9.write.mode(\"overwrite\")\n",
        ".parquet(s\"/data/sandboxes/m6hn/data/projects/cdd/modelo/nztg/data/t_nztg_secur_accounting_position_ifrs9/g_entific_id=MX/gf_cutoff_date=2022-06-32\")"
      ]
    },
    {
      "cell_type": "markdown",
      "metadata": {
        "id": "dLn5xQzbF3Tp"
      },
      "source": [
        "## Testing"
      ]
    },
    {
      "cell_type": "code",
      "execution_count": null,
      "metadata": {
        "jupyter": {
          "source_hidden": true
        },
        "id": "1V95dCF2F3Tq"
      },
      "outputs": [],
      "source": [
        "import org.apache.spark.sql._\n",
        "import org.apache.spark.sql.functions._\n",
        "import org.apache.spark.sql.types._"
      ]
    },
    {
      "cell_type": "code",
      "execution_count": null,
      "metadata": {
        "jupyter": {
          "source_hidden": true
        },
        "id": "n5psx2vlF3Tq"
      },
      "outputs": [],
      "source": [
        "%%html\n",
        "<style>\n",
        ".output_stdout > pre{\n",
        "    width:100000px !important;\n",
        "}\n",
        "</style>\n",
        "%%html\n",
        "<style>\n",
        "div pre{\n",
        "    white-space: pre !important;\n",
        "}\n",
        "</style>"
      ]
    }
  ],
  "metadata": {
    "kernelspec": {
      "display_name": "spark-scala",
      "language": "",
      "name": "spark-scala-spark-scala"
    },
    "language_info": {
      "codemirror_mode": "text/x-scala",
      "file_extension": ".scala",
      "mimetype": "text/x-scala",
      "name": "scala",
      "pygments_lexer": "scala",
      "version": "2.12.12"
    },
    "colab": {
      "provenance": [],
      "include_colab_link": true
    }
  },
  "nbformat": 4,
  "nbformat_minor": 0
}